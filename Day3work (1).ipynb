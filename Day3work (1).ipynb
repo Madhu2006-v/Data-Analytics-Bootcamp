{
 "cells": [
  {
   "cell_type": "code",
   "execution_count": null,
   "id": "0f2871a6-401c-42a5-aa40-4ba4843e2921",
   "metadata": {},
   "outputs": [
    {
     "name": "stdin",
     "output_type": "stream",
     "text": [
      "enter the password 7655\n"
     ]
    },
    {
     "name": "stdout",
     "output_type": "stream",
     "text": [
      "wrong password! 7 attempts left.\n"
     ]
    },
    {
     "name": "stdin",
     "output_type": "stream",
     "text": [
      "enter the password 654\n"
     ]
    },
    {
     "name": "stdout",
     "output_type": "stream",
     "text": [
      "wrong password! 6 attempts left.\n"
     ]
    },
    {
     "name": "stdin",
     "output_type": "stream",
     "text": [
      "enter the password 42\n"
     ]
    },
    {
     "name": "stdout",
     "output_type": "stream",
     "text": [
      "wrong password! 5 attempts left.\n"
     ]
    }
   ],
   "source": [
    "#password attempts\n",
    "password = 757886\n",
    "attempts = 8\n",
    "\n",
    "i=1\n",
    "while attempts > 0:\n",
    "    \n",
    "      pw =(int(input(\"enter the password\")))\n",
    "      if(password==pw):\n",
    "         print(\"password is correct\")\n",
    "         break\n",
    "          \n",
    "      else:\n",
    "        attempts -=1\n",
    "        print(f\"wrong password! {attempts} attempts left.\")        \n"
   ]
  },
  {
   "cell_type": "code",
   "execution_count": null,
   "id": "21868816-5ffd-4bc7-bb42-4e8fa85bdd21",
   "metadata": {},
   "outputs": [],
   "source": [
    "#continue\n",
    "password = 757886\n",
    "attempts = 8\n",
    "\n",
    "\n",
    "while attempts > 0:\n",
    "    \n",
    "      pw =(int(input(\"enter the password\")))\n",
    "      if(password==pw):\n",
    "         print(\"password is correct\")\n",
    "         break\n",
    "          \n",
    "      else:\n",
    "        attempts -=1\n",
    "        print(f\"wrong password! {attempts} attempts left.\")\n",
    "      "
   ]
  },
  {
   "cell_type": "code",
   "execution_count": 10,
   "id": "355a3883-6f58-4e4f-9ea7-dedca09b52bb",
   "metadata": {},
   "outputs": [
    {
     "name": "stdin",
     "output_type": "stream",
     "text": [
      "enter the number 56\n"
     ]
    },
    {
     "name": "stdout",
     "output_type": "stream",
     "text": [
      "56 X 1=56\n",
      "56 X 2=112\n",
      "56 X 3=168\n",
      "56 X 4=224\n",
      "56 X 5=280\n",
      "56 X 6=336\n",
      "56 X 7=392\n",
      "56 X 8=448\n",
      "56 X 9=504\n",
      "56 X 10=560\n"
     ]
    }
   ],
   "source": [
    "#for loop\n",
    "num = int(input(\"enter the number\"))\n",
    "\n",
    "for i in range(1,11):\n",
    "  print(f\"{num} X {i}={num*i}\")"
   ]
  },
  {
   "cell_type": "code",
   "execution_count": null,
   "id": "7e7db9e5-5f9c-42b8-bdd9-8968b909e1dc",
   "metadata": {},
   "outputs": [],
   "source": [
    "a = int(input(\"Enter the num1: \"))\n",
    "b = int(input(\"Enter the num2: \"))\n",
    "c = int(input(\"Enter the num3: \"))\n",
    "\n",
    "if a > b:\n",
    "    if a > c:\n",
    "        print(\"num1 is greatest:\", a)\n",
    "    else:\n",
    "        print(\"num3 is greatest:\", c)\n",
    "else:\n",
    "    if b > c:\n",
    "        print(\"num2 is greatest:\", b)\n",
    "    else:\n",
    "        print(\"num3 is greatest:\", c)\n",
    "   "
   ]
  },
  {
   "cell_type": "raw",
   "id": "0a2df7e8-c462-459b-a794-7969be94fd2d",
   "metadata": {},
   "source": []
  },
  {
   "cell_type": "code",
   "execution_count": null,
   "id": "1619bad5-b0db-48bc-bc6a-2c01fdd9d94e",
   "metadata": {},
   "outputs": [],
   "source": [
    "\n"
   ]
  },
  {
   "cell_type": "code",
   "execution_count": null,
   "id": "6f717e1c-4507-4aa4-8dfc-15f81b0d91cb",
   "metadata": {},
   "outputs": [],
   "source": []
  },
  {
   "cell_type": "code",
   "execution_count": null,
   "id": "8a8a54d4-019c-46f3-a475-6814a01122cb",
   "metadata": {},
   "outputs": [],
   "source": []
  },
  {
   "cell_type": "code",
   "execution_count": null,
   "id": "82a3aeac-73c7-483d-8b1a-0e7c2d9614b8",
   "metadata": {},
   "outputs": [],
   "source": []
  },
  {
   "cell_type": "code",
   "execution_count": null,
   "id": "475c82ae-c9e8-4ded-9b9d-586aa4657ae3",
   "metadata": {},
   "outputs": [],
   "source": []
  }
 ],
 "metadata": {
  "kernelspec": {
   "display_name": "Python [conda env:anaconda3]",
   "language": "python",
   "name": "conda-env-anaconda3-py"
  },
  "language_info": {
   "codemirror_mode": {
    "name": "ipython",
    "version": 3
   },
   "file_extension": ".py",
   "mimetype": "text/x-python",
   "name": "python",
   "nbconvert_exporter": "python",
   "pygments_lexer": "ipython3",
   "version": "3.13.5"
  }
 },
 "nbformat": 4,
 "nbformat_minor": 5
}
