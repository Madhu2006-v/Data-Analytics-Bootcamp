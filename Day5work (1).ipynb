{
 "cells": [
  {
   "cell_type": "code",
   "execution_count": null,
   "id": "6192e93e-3498-4975-800a-c60fb860fc90",
   "metadata": {},
   "outputs": [],
   "source": [
    "# Create two lists: list1 = [1, 2, 3] and list2 = [4, 5, 6]. Extend list1 using list2 and print the updated list.\n",
    "list1 = [1, 2, 3]\n",
    "list2 = [4, 5, 6]\n",
    "\n",
    "list1.extend(list2)\n",
    "print(\"Updated list1:\", list1)\n",
    "\n",
    "\n"
   ]
  },
  {
   "cell_type": "code",
   "execution_count": 4,
   "id": "beffa15a-5eb7-4f3b-b5f9-01ee9be02f1d",
   "metadata": {},
   "outputs": [
    {
     "name": "stdout",
     "output_type": "stream",
     "text": [
      "[10, 20, 25, 30, 40]\n"
     ]
    }
   ],
   "source": [
    "# Insert the value 25 at index 2 in the list: l = [10, 20, 30, 40].\n",
    "L = [10, 20, 30, 40]\n",
    "L.insert(2,25)\n",
    "print(L)\n",
    "\n",
    "\n"
   ]
  },
  {
   "cell_type": "code",
   "execution_count": 8,
   "id": "6413902b-30f6-4996-86a0-751db0a4bb36",
   "metadata": {},
   "outputs": [
    {
     "name": "stdout",
     "output_type": "stream",
     "text": [
      "[10, 30, 20, 40]\n"
     ]
    }
   ],
   "source": [
    "# Remove the first occurrence of the value 20 from the list: l = [10, 20, 30, 20, 40]\n",
    "l = [10, 20, 30, 20, 40]\n",
    "l.pop(1)\n",
    "print(l)\n"
   ]
  },
  {
   "cell_type": "code",
   "execution_count": 9,
   "id": "b648ee9b-3bc1-472e-ba60-b720f91fab67",
   "metadata": {},
   "outputs": [
    {
     "name": "stdout",
     "output_type": "stream",
     "text": [
      "[1, 2, 3, 4]\n"
     ]
    }
   ],
   "source": [
    "# Pop the last element from the list [1, 2, 3, 4, 5] and display both the popped item and the updated list.\n",
    "list = [1, 2, 3, 4, 5] \n",
    "list.pop(4)\n",
    "print(list)\n",
    "print(\"poped item is\",list.[pop(4)])\n",
    "\n",
    "\n"
   ]
  },
  {
   "cell_type": "code",
   "execution_count": 13,
   "id": "df70bf70-085e-4fb1-827a-0751193583fe",
   "metadata": {},
   "outputs": [
    {
     "name": "stdout",
     "output_type": "stream",
     "text": [
      "The index of 15 is: 2\n"
     ]
    }
   ],
   "source": [
    "# Find and print the index of the element 15 in the list [5, 10, 15, 20, 25].\n",
    "L= [5, 10, 15, 20, 25]\n",
    "index = L.index(15)\n",
    "print(\"The index of 15 is:\", index)\n",
    "\n"
   ]
  },
  {
   "cell_type": "code",
   "execution_count": 15,
   "id": "a31d08ee-5e74-40e5-bd13-fafbc067f5e5",
   "metadata": {},
   "outputs": [
    {
     "name": "stdout",
     "output_type": "stream",
     "text": [
      "2 appears 4 times\n"
     ]
    }
   ],
   "source": [
    "# Count how many times the number 2 appears in the list [1, 2, 2, 3, 2, 4, 2].\n",
    "l = [1, 2, 2, 3, 2, 4, 2]\n",
    "count = l.count(2)\n",
    "print( \"2 appears\" ,count,\"times\")\n"
   ]
  },
  {
   "cell_type": "code",
   "execution_count": 19,
   "id": "9d449259-e312-456d-832c-08e04fc69f86",
   "metadata": {},
   "outputs": [
    {
     "name": "stdout",
     "output_type": "stream",
     "text": [
      "Ascending: [3, 5, 7, 10]\n",
      "Descending: [10, 7, 5, 3]\n"
     ]
    }
   ],
   "source": [
    "# Sort the list [10, 5, 7, 3] in both ascending and descending order.\n",
    "L = [10, 5, 7, 3]\n",
    "asc = sorted(L)\n",
    "print(\"Ascending:\", asc)\n",
    "\n",
    "\n",
    "desc = sorted(L, reverse=True)\n",
    "print(\"Descending:\", desc)\n",
    "\n"
   ]
  },
  {
   "cell_type": "code",
   "execution_count": 21,
   "id": "09ec851f-add5-4d86-900a-485820d5d63b",
   "metadata": {},
   "outputs": [
    {
     "name": "stdout",
     "output_type": "stream",
     "text": [
      "[5, 4, 3, 2, 1]\n"
     ]
    }
   ],
   "source": [
    "# Reverse the list [1, 2, 3, 4, 5] using the reverse() method.\n",
    "list = [1, 2, 3, 4, 5]\n",
    "list.reverse()\n",
    "print(list)\n",
    "\n"
   ]
  },
  {
   "cell_type": "code",
   "execution_count": 12,
   "id": "bdfd9aa0-0430-46c2-8dc9-012fa9169be1",
   "metadata": {},
   "outputs": [
    {
     "name": "stdin",
     "output_type": "stream",
     "text": [
      "Enter the Male count:  7\n",
      "Enter the Female count:  7\n"
     ]
    },
    {
     "name": "stdout",
     "output_type": "stream",
     "text": [
      "Male and Female are equal\n",
      "the gender count checker.\n"
     ]
    }
   ],
   "source": [
    "try:\n",
    "    M = int(input(\"Enter the Male count: \"))\n",
    "    F = int(input(\"Enter the Female count: \"))\n",
    "\n",
    "    if M > F:\n",
    "        print(\"Female\")\n",
    "    elif M < F:\n",
    "        print(\"Male\")\n",
    "    else:\n",
    "        print(\"Male and Female are equal\")\n",
    "\n",
    "except ValueError:\n",
    "    print(\"Invalid input!\")\n",
    "\n",
    "finally:\n",
    "    print(\"the gender count checker.\")\n"
   ]
  },
  {
   "cell_type": "code",
   "execution_count": null,
   "id": "be5a3750-5414-4cb7-b5d5-221f565e2a05",
   "metadata": {},
   "outputs": [],
   "source": [
    "# bank system\n",
    "class Bank:\n",
    "    def Money(self,withdrawal,Deposits):\n",
    "        self.withdrawal = withdrawal\n",
    "        self.Deposits   = Deposits\n",
    "    def show(self):\n",
    "         print(f\"{self.withdrawal}-{self.Deposits})\n",
    "    W = int(input(\"enter the with\n"
   ]
  },
  {
   "cell_type": "code",
   "execution_count": null,
   "id": "9748b551-35b3-4f58-8d26-a7a8f9f561b4",
   "metadata": {},
   "outputs": [],
   "source": []
  },
  {
   "cell_type": "code",
   "execution_count": null,
   "id": "fe5f3e22-6851-4050-b82d-7d858f8a6fa7",
   "metadata": {},
   "outputs": [],
   "source": []
  }
 ],
 "metadata": {
  "kernelspec": {
   "display_name": "Python [conda env:anaconda3]",
   "language": "python",
   "name": "conda-env-anaconda3-py"
  },
  "language_info": {
   "codemirror_mode": {
    "name": "ipython",
    "version": 3
   },
   "file_extension": ".py",
   "mimetype": "text/x-python",
   "name": "python",
   "nbconvert_exporter": "python",
   "pygments_lexer": "ipython3",
   "version": "3.13.5"
  }
 },
 "nbformat": 4,
 "nbformat_minor": 5
}
