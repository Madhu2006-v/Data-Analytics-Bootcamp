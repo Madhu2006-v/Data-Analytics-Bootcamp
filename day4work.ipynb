{
 "cells": [
  {
   "cell_type": "code",
   "execution_count": 1,
   "id": "ddd096dd-bb06-454b-b14c-7edcb3a29b14",
   "metadata": {},
   "outputs": [],
   "source": [
    "#fuction\n",
    "def sum(a,d):\n",
    "    print(a+d)\n",
    "    sum(4,8)"
   ]
  },
  {
   "cell_type": "code",
   "execution_count": 2,
   "id": "80650ba9-0c91-4ca3-b9aa-941b9f58c010",
   "metadata": {},
   "outputs": [],
   "source": [
    "# required\n",
    "def sum(a,d):\n",
    "    print(a+d)\n",
    "    sum(4,8)"
   ]
  },
  {
   "cell_type": "code",
   "execution_count": 3,
   "id": "5a1d2d53-c8fd-4573-a4d2-c13dabcf9ad3",
   "metadata": {},
   "outputs": [],
   "source": [
    "#frist\n",
    "def even():\n",
    " x = 1\n",
    " while(1<=50):\n",
    "    if x%2==0:\n",
    "        print(x)\n",
    " x+=1\n",
    " even()\n",
    "\n"
   ]
  },
  {
   "cell_type": "code",
   "execution_count": 2,
   "id": "9b4f5b60-68e6-4130-9dc4-fe11692d77d7",
   "metadata": {},
   "outputs": [],
   "source": [
    "#frist\n",
    "def even():\n",
    " x = 1\n",
    " while(1<=50):\n",
    "    if x%2==0:\n",
    "        print(x)\n",
    "    x+=1\n",
    " even()\n",
    "\n"
   ]
  },
  {
   "cell_type": "code",
   "execution_count": 2,
   "id": "75ebe3cf-636a-4e93-837b-0463e11848a7",
   "metadata": {},
   "outputs": [],
   "source": [
    "#frist\n",
    "def even():\n",
    " x = 1\n",
    " while(1<=50):\n",
    "    if x%2==0:\n",
    "        print(x)\n",
    "    x+=1\n",
    " even()\n",
    "\n"
   ]
  },
  {
   "cell_type": "code",
   "execution_count": 4,
   "id": "7355db21-b3b8-4749-bed3-e04cb134ec0f",
   "metadata": {},
   "outputs": [
    {
     "name": "stdout",
     "output_type": "stream",
     "text": [
      "<class 'list'>\n"
     ]
    }
   ],
   "source": [
    "a = [23,'f',7.3]\n",
    "b = type(a)\n",
    "print(b)"
   ]
  },
  {
   "cell_type": "code",
   "execution_count": 5,
   "id": "714cc44b-4875-49c0-b4b4-6f07eed94893",
   "metadata": {},
   "outputs": [
    {
     "name": "stdin",
     "output_type": "stream",
     "text": [
      "Enter a word:  sakshi\n"
     ]
    },
    {
     "name": "stdout",
     "output_type": "stream",
     "text": [
      "Not a palindrome\n"
     ]
    }
   ],
   "source": [
    "def is_palindrome(s):\n",
    "    return s == s[::-1]\n",
    "\n",
    "\n",
    "word = input(\"Enter a word: \")\n",
    "if is_palindrome(word):\n",
    "    print(\"Palindrome\")\n",
    "else:\n",
    "    print(\"Not a palindrome\")"
   ]
  },
  {
   "cell_type": "code",
   "execution_count": 6,
   "id": "44e0a986-2dac-4a7f-94c2-5479ec42aeea",
   "metadata": {},
   "outputs": [
    {
     "name": "stdin",
     "output_type": "stream",
     "text": [
      "enter the string: house\n"
     ]
    },
    {
     "data": {
      "text/plain": [
       "'esuoh'"
      ]
     },
     "execution_count": 6,
     "metadata": {},
     "output_type": "execute_result"
    }
   ],
   "source": [
    "s=str(input(\"enter the string:\"))\n",
    "def reverse(s):\n",
    "    reverse = \"\"\n",
    "    i = 0\n",
    "    while i < len(s):\n",
    "        reverse = s[i] + reverse\n",
    "        i = i + 1\n",
    "    return reverse\n",
    "reverse(s)"
   ]
  },
  {
   "cell_type": "code",
   "execution_count": 7,
   "id": "c0d5a694-563f-44bf-8d79-e04d08f41c8f",
   "metadata": {},
   "outputs": [
    {
     "data": {
      "text/plain": [
       "50"
      ]
     },
     "execution_count": 7,
     "metadata": {},
     "output_type": "execute_result"
    }
   ],
   "source": [
    "lst=[10,50,2,1]\n",
    "def largest(lst):\n",
    "    return max(lst)\n",
    "largest(lst)"
   ]
  },
  {
   "cell_type": "code",
   "execution_count": 8,
   "id": "0f75afb0-eeb7-4331-b220-8b87a4d20a8d",
   "metadata": {},
   "outputs": [
    {
     "name": "stdin",
     "output_type": "stream",
     "text": [
      "enter the no: 7\n"
     ]
    },
    {
     "data": {
      "text/plain": [
       "5040"
      ]
     },
     "execution_count": 8,
     "metadata": {},
     "output_type": "execute_result"
    }
   ],
   "source": [
    "num=int(input(\"enter the no:\"))\n",
    "def factorial(n):\n",
    "    if n == 0 or n == 1:\n",
    "        return 1\n",
    "    else:\n",
    "        return n * factorial(n - 1)\n",
    "factorial(num)"
   ]
  },
  {
   "cell_type": "code",
   "execution_count": 10,
   "id": "8192abfc-52eb-4f93-a8d0-afc0598e2cb1",
   "metadata": {},
   "outputs": [
    {
     "name": "stdout",
     "output_type": "stream",
     "text": [
      "square: 100\n"
     ]
    }
   ],
   "source": [
    "def square(x):\n",
    "    print(\"square:\",(x*x))\n",
    "square(10)"
   ]
  },
  {
   "cell_type": "code",
   "execution_count": 11,
   "id": "b3b3489a-46ad-410c-a8b3-a2112755ead8",
   "metadata": {},
   "outputs": [
    {
     "name": "stdin",
     "output_type": "stream",
     "text": [
      "Enter a word:  mjkrr\n"
     ]
    },
    {
     "name": "stdout",
     "output_type": "stream",
     "text": [
      "Not a palindrome\n"
     ]
    }
   ],
   "source": [
    "def is_palindrome(s):\n",
    "    return s == s[::-1]\n",
    "\n",
    "# Example\n",
    "word = input(\"Enter a word: \")\n",
    "if is_palindrome(word):\n",
    "    print(\"Palindrome\")\n",
    "else:\n",
    "    print(\"Not a palindrome\")"
   ]
  },
  {
   "cell_type": "code",
   "execution_count": 12,
   "id": "75f6e36c-f372-4d23-ae91-e3bed5f887b4",
   "metadata": {},
   "outputs": [
    {
     "name": "stdin",
     "output_type": "stream",
     "text": [
      "enter the string: madhu\n"
     ]
    },
    {
     "data": {
      "text/plain": [
       "'uhdam'"
      ]
     },
     "execution_count": 12,
     "metadata": {},
     "output_type": "execute_result"
    }
   ],
   "source": [
    "s=str(input(\"enter the string:\"))\n",
    "def reverse(s):\n",
    "    reverse = \"\"\n",
    "    i = 0\n",
    "    while i < len(s):\n",
    "        reverse = s[i] + reverse\n",
    "        i = i + 1\n",
    "    return reverse\n",
    "reverse(s)"
   ]
  },
  {
   "cell_type": "code",
   "execution_count": 36,
   "id": "d379058c-1c49-4acb-af0b-992b0ef6073c",
   "metadata": {},
   "outputs": [
    {
     "name": "stdout",
     "output_type": "stream",
     "text": [
      "['madhu', 3, 5, 2, 'kj', 'k', 'op', 3, 7, 4, 'A']\n"
     ]
    }
   ],
   "source": [
    "a =['madhu', 3 , 5 ,2, 'kj', 'k' ,'op',3,7, 4]\n",
    "# a.count(0)\n",
    "# a.sort()\n",
    "# b = a.index(3)\n",
    "# a.reverse()\n",
    "# a.remove(3)\n",
    "a.extend('A')\n",
    "\n",
    "\n",
    "print(a)\n"
   ]
  },
  {
   "cell_type": "code",
   "execution_count": null,
   "id": "4907c266-cd8e-411e-a8a8-7bc5f68fd29d",
   "metadata": {},
   "outputs": [],
   "source": []
  },
  {
   "cell_type": "code",
   "execution_count": null,
   "id": "cbd88720-5a0c-492d-81dc-d992b4e211c5",
   "metadata": {},
   "outputs": [],
   "source": []
  },
  {
   "cell_type": "code",
   "execution_count": null,
   "id": "d7fa47b6-9bfa-45f7-be3d-5c709cdf9d58",
   "metadata": {},
   "outputs": [],
   "source": []
  }
 ],
 "metadata": {
  "kernelspec": {
   "display_name": "Python [conda env:anaconda3]",
   "language": "python",
   "name": "conda-env-anaconda3-py"
  },
  "language_info": {
   "codemirror_mode": {
    "name": "ipython",
    "version": 3
   },
   "file_extension": ".py",
   "mimetype": "text/x-python",
   "name": "python",
   "nbconvert_exporter": "python",
   "pygments_lexer": "ipython3",
   "version": "3.13.5"
  }
 },
 "nbformat": 4,
 "nbformat_minor": 5
}
