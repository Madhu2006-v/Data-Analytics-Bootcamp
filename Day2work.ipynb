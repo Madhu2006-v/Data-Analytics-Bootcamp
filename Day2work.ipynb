{
 "cells": [
  {
   "cell_type": "code",
   "execution_count": null,
   "id": "02818514-9999-467c-857b-f3085d3fc4c5",
   "metadata": {},
   "outputs": [],
   "source": [
    "#Billling Management  System"
   ]
  },
  {
   "cell_type": "code",
   "execution_count": 2,
   "id": "7f9d44ed-fc6c-4a55-ab29-7bf0e6728434",
   "metadata": {},
   "outputs": [
    {
     "name": "stdin",
     "output_type": "stream",
     "text": [
      "enter the product cookies \n",
      "enter the quantity 4\n",
      "enter the price of the product 50\n"
     ]
    },
    {
     "name": "stdout",
     "output_type": "stream",
     "text": [
      "200\n"
     ]
    }
   ],
   "source": [
    "\n",
    "product =  str (input(\"enter the product\"))\n",
    "quantity = int (input(\"enter the quantity\"))\n",
    "price = int (input(\"enter the price of the product\"))\n",
    "sum=quantity * price\n",
    "print(sum)"
   ]
  },
  {
   "cell_type": "code",
   "execution_count": 71,
   "id": "3d93f82c-8e85-4ee7-84e0-8d3abc6eca5b",
   "metadata": {},
   "outputs": [
    {
     "name": "stdout",
     "output_type": "stream",
     "text": [
      "59.9\n"
     ]
    }
   ],
   "source": [
    "#addition of two interger values and one float value\n",
    "a = 10\n",
    "b = 43\n",
    "c = 6.9\n",
    "d = a+b+c\n",
    "print(d)"
   ]
  },
  {
   "cell_type": "code",
   "execution_count": 73,
   "id": "43d60531-9f24-457a-bce0-7ace7a74f2b3",
   "metadata": {},
   "outputs": [
    {
     "name": "stdout",
     "output_type": "stream",
     "text": [
      "33mikiy\n"
     ]
    }
   ],
   "source": [
    "#addition of one interger values and onestring value\n",
    "a = 33\n",
    "b = \"mikiy\"\n",
    "c = str(a) + b\n",
    "print(c)\n"
   ]
  },
  {
   "cell_type": "code",
   "execution_count": 1,
   "id": "dc1964cc-aec7-42c8-8640-4a02caeade33",
   "metadata": {},
   "outputs": [
    {
     "name": "stdin",
     "output_type": "stream",
     "text": [
      "enter the name khushi\n",
      "enter the age 45\n"
     ]
    },
    {
     "name": "stdout",
     "output_type": "stream",
     "text": [
      "eligible to vote\n"
     ]
    }
   ],
   "source": [
    "#vote\n",
    "\n",
    "name=str(input(\"enter the name\"))\n",
    "age=int(input(\"enter the age\"))\n",
    "if age >= 18:\n",
    "    print(\"eligible to vote\")\n",
    "else:\n",
    "    print(\"not eligible  to vote\")"
   ]
  },
  {
   "cell_type": "code",
   "execution_count": 6,
   "id": "15f3b9d0-2c86-43b8-95af-19314ba2d22d",
   "metadata": {},
   "outputs": [
    {
     "name": "stdout",
     "output_type": "stream",
     "text": [
      "yes\n"
     ]
    }
   ],
   "source": [
    "x = 5\n",
    "if x > 2:\n",
    "    print(\"yes\")"
   ]
  },
  {
   "cell_type": "code",
   "execution_count": 7,
   "id": "0e34346c-8049-4d90-a4d6-6ef9155dab7a",
   "metadata": {},
   "outputs": [
    {
     "name": "stdout",
     "output_type": "stream",
     "text": [
      "15\n"
     ]
    }
   ],
   "source": [
    "x = 10\n",
    "print(int(x) + 5)\n"
   ]
  },
  {
   "cell_type": "code",
   "execution_count": 8,
   "id": "c4739b58-c76d-4fd7-b9c7-746c4e1f37a0",
   "metadata": {},
   "outputs": [
    {
     "name": "stdout",
     "output_type": "stream",
     "text": [
      "False\n"
     ]
    }
   ],
   "source": [
    "x = 0\n",
    "if x:\n",
    "    print('True')\n",
    "else:\n",
    "    print('False')"
   ]
  },
  {
   "cell_type": "code",
   "execution_count": 9,
   "id": "a14bf758-9119-4513-a250-378a5ff680cc",
   "metadata": {},
   "outputs": [
    {
     "data": {
      "text/plain": [
       "'123'"
      ]
     },
     "execution_count": 9,
     "metadata": {},
     "output_type": "execute_result"
    }
   ],
   "source": [
    "str(123)"
   ]
  },
  {
   "cell_type": "code",
   "execution_count": 10,
   "id": "baba2b02-87d5-4060-9079-b9966b825e55",
   "metadata": {},
   "outputs": [
    {
     "name": "stdout",
     "output_type": "stream",
     "text": [
      "B\n"
     ]
    }
   ],
   "source": [
    "if 10 < 2:\n",
    "    print('A')\n",
    "else:\n",
    "    print('B')"
   ]
  },
  {
   "cell_type": "code",
   "execution_count": 11,
   "id": "8926973b-8081-4afd-ad02-0499423c6be4",
   "metadata": {},
   "outputs": [
    {
     "name": "stdin",
     "output_type": "stream",
     "text": [
      "enter the num 4\n"
     ]
    },
    {
     "name": "stdout",
     "output_type": "stream",
     "text": [
      "num is positive\n"
     ]
    }
   ],
   "source": [
    "num=int(input(\"enter the num\"))\n",
    "if num>0:\n",
    "     print(\"num is positive\")\n",
    "else:\n",
    "    print(\"num is negative\")"
   ]
  },
  {
   "cell_type": "code",
   "execution_count": 12,
   "id": "ba260e7e-706d-444c-b78e-08c8169b40bb",
   "metadata": {},
   "outputs": [
    {
     "name": "stdin",
     "output_type": "stream",
     "text": [
      "enter the number 5\n"
     ]
    },
    {
     "name": "stdout",
     "output_type": "stream",
     "text": [
      "num is odd\n"
     ]
    }
   ],
   "source": [
    "#odd and even\n",
    "num=int(input(\"enter the number\"))\n",
    "if num%2==0:\n",
    "     print(\"num is even\")\n",
    "else:aq1\n",
    "    print(\"num is odd\")\n"
   ]
  },
  {
   "cell_type": "code",
   "execution_count": 13,
   "id": "34045d77-e92f-4010-a301-068098c4a5e4",
   "metadata": {},
   "outputs": [
    {
     "name": "stdin",
     "output_type": "stream",
     "text": [
      "enter marks 34\n"
     ]
    },
    {
     "name": "stdout",
     "output_type": "stream",
     "text": [
      "fail\n"
     ]
    }
   ],
   "source": [
    "#marks checking\n",
    "marks=int(input(\"enter marks\"))\n",
    "if marks>=40:\n",
    "     print(\"pass\")\n",
    "else:\n",
    "    print(\"fail\")\n"
   ]
  },
  {
   "cell_type": "code",
   "execution_count": 14,
   "id": "b1217f5f-3d16-4a44-ad8b-8bf68596f1a5",
   "metadata": {},
   "outputs": [
    {
     "name": "stdin",
     "output_type": "stream",
     "text": [
      "enter the name sakshii\n"
     ]
    },
    {
     "name": "stdout",
     "output_type": "stream",
     "text": [
      "length is greater then five\n"
     ]
    }
   ],
   "source": [
    "#length check\n",
    "name=str(input(\"enter the name\"))\n",
    "if len(name)>5:\n",
    "     print(\"length is greater then five\")\n",
    "else:\n",
    "    print(\"it is not\")"
   ]
  },
  {
   "cell_type": "code",
   "execution_count": 15,
   "id": "cce699b7-9459-4098-b651-650b98a79006",
   "metadata": {},
   "outputs": [
    {
     "name": "stdout",
     "output_type": "stream",
     "text": [
      "A\n"
     ]
    }
   ],
   "source": [
    "x = 10\n",
    "if x > 5:\n",
    "    print('A')\n",
    "elif x > 3:\n",
    "    print('B')\n",
    "else:\n",
    "    print('C')"
   ]
  },
  {
   "cell_type": "code",
   "execution_count": 17,
   "id": "82cd261f-07d4-4b03-a52d-e600892c7c4e",
   "metadata": {},
   "outputs": [
    {
     "name": "stdout",
     "output_type": "stream",
     "text": [
      "Equal\n"
     ]
    }
   ],
   "source": [
    "if x > 10: print('High') \n",
    "elif x == 10: print('Equal') \n",
    "else: print('Low')"
   ]
  },
  {
   "cell_type": "code",
   "execution_count": 34,
   "id": "6463c134-b0b0-409d-ba05-4793987d0eca",
   "metadata": {},
   "outputs": [
    {
     "name": "stdin",
     "output_type": "stream",
     "text": [
      "enter the month march\n"
     ]
    },
    {
     "name": "stdout",
     "output_type": "stream",
     "text": [
      "Spring\n"
     ]
    }
   ],
   "source": [
    "#weather  checking\n",
    "Month = str(input(\"enter the month\"))\n",
    "if Month in['march','April','may']:\n",
    "    print(\"Spring\")\n",
    "elif Month in['june','july','August']:\n",
    "     print(\"summer\")\n",
    "elif Month in['september','october','november']:\n",
    "     print(\"Autum\")\n",
    "elif Month in['December', 'January','February' ]:\n",
    "     print(\"winter\")\n",
    "else:\n",
    "     print(\"workdone\")\n",
    " "
   ]
  },
  {
   "cell_type": "code",
   "execution_count": 35,
   "id": "a0f5f3c1-9e88-478f-b4a0-7331e7cf624b",
   "metadata": {},
   "outputs": [
    {
     "name": "stdin",
     "output_type": "stream",
     "text": [
      "enter mode of transport water\n",
      "enter vehicle ship\n"
     ]
    },
    {
     "name": "stdout",
     "output_type": "stream",
     "text": [
      "you are in ship\n"
     ]
    }
   ],
   "source": [
    "# mode of transportation \n",
    "modeoftransport=str(input(\"enter mode of transport\"))\n",
    "vehicle=str(input(\"enter vehicle\"))\n",
    "if modeoftransport==\"air\":\n",
    "    if vehicle==\"aeroplane\":\n",
    "        print(\"you are in aeroplane\")\n",
    "    elif vehicle==\"helicopter\":\n",
    "        print(\"you are in helicopter\")\n",
    "if modeoftransport==\"water\":\n",
    "    if vehicle==\"ship\":\n",
    "        print(\"you are in ship\")\n",
    "    elif vehicle==\"cruise\":\n",
    "        print(\"you are in cruise\")\n",
    "if modeoftransport==\"land\":\n",
    "    if vehicle==\"car\":\n",
    "        print(\"you are in car\")\n",
    "    elif vehicle==\"bus\":\n",
    "        print(\"you are in bus\")"
   ]
  },
  {
   "cell_type": "code",
   "execution_count": 37,
   "id": "d2ada61f-b99e-41cd-aeac-0153ffa9ea99",
   "metadata": {},
   "outputs": [
    {
     "name": "stdout",
     "output_type": "stream",
     "text": [
      "No\n"
     ]
    }
   ],
   "source": [
    "x = 4\n",
    "y = 2\n",
    "if x > 2:\n",
    "    if y > 3:\n",
    "        print('Yes')\n",
    "    else:\n",
    "        print('No')"
   ]
  },
  {
   "cell_type": "code",
   "execution_count": 38,
   "id": "4a1ac7b4-1668-4178-8426-c82fa65b426f",
   "metadata": {},
   "outputs": [
    {
     "name": "stdout",
     "output_type": "stream",
     "text": [
      "High\n"
     ]
    }
   ],
   "source": [
    "x = 7\n",
    "if x > 5:\n",
    "    print('High')\n",
    "else:\n",
    "    print('Low')"
   ]
  },
  {
   "cell_type": "code",
   "execution_count": 44,
   "id": "0e7f4e4d-f350-4309-9bb2-73f503ed871d",
   "metadata": {},
   "outputs": [],
   "source": [
    "if x==1: \n",
    "    print('One') \n",
    "elif x==2: \n",
    "    print('Two')"
   ]
  },
  {
   "cell_type": "code",
   "execution_count": 45,
   "id": "b9ec46f3-3234-4ea7-b88e-e699d99d656c",
   "metadata": {},
   "outputs": [
    {
     "name": "stdout",
     "output_type": "stream",
     "text": [
      "Pass\n"
     ]
    }
   ],
   "source": [
    "marks = 45\n",
    "if marks >= 40:\n",
    "    print('Pass')\n",
    "else:\n",
    "    print('Fail')"
   ]
  },
  {
   "cell_type": "code",
   "execution_count": 46,
   "id": "5e731764-bd40-4db7-bf82-23503e32ddb1",
   "metadata": {},
   "outputs": [
    {
     "name": "stdout",
     "output_type": "stream",
     "text": [
      "Three\n"
     ]
    }
   ],
   "source": [
    "\n",
    "x = 3\n",
    "if x == 5:\n",
    "    print('Five')\n",
    "elif x == 3:\n",
    "    print('Three')\n",
    "else:\n",
    "    print('Other')"
   ]
  },
  {
   "cell_type": "code",
   "execution_count": 47,
   "id": "f2ec40c8-67fc-4bf7-bcf8-97a269665c90",
   "metadata": {},
   "outputs": [
    {
     "name": "stdout",
     "output_type": "stream",
     "text": [
      "Three\n"
     ]
    }
   ],
   "source": [
    "x = 3\n",
    "if x == 5:\n",
    "    print('Five')\n",
    "elif x == 3:\n",
    "    print('Three')\n",
    "else:\n",
    "    print('Other')"
   ]
  },
  {
   "cell_type": "code",
   "execution_count": 48,
   "id": "e9d0ad18-9ec0-4ad1-a4c8-1ac8497cb904",
   "metadata": {},
   "outputs": [
    {
     "name": "stdin",
     "output_type": "stream",
     "text": [
      "Enter a number:  -9\n"
     ]
    },
    {
     "name": "stdout",
     "output_type": "stream",
     "text": [
      "The number is negative.\n"
     ]
    }
   ],
   "source": [
    "# Check number is positive, negative or zero\n",
    "\n",
    "num = float(input(\"Enter a number: \"))\n",
    "\n",
    "if num > 0:\n",
    "    print(\"The number is positive.\")\n",
    "elif num < 0:\n",
    "    print(\"The number is negative.\")\n",
    "else:\n",
    "    print(\"The number is zero.\")\n"
   ]
  },
  {
   "cell_type": "code",
   "execution_count": 49,
   "id": "18e8483a-1407-4ab5-b774-73ee027ba4b6",
   "metadata": {},
   "outputs": [
    {
     "name": "stdin",
     "output_type": "stream",
     "text": [
      "Enter a age :  4\n"
     ]
    },
    {
     "name": "stdout",
     "output_type": "stream",
     "text": [
      "child .\n"
     ]
    }
   ],
   "source": [
    "age = int(input(\"Enter a age : \"))\n",
    "\n",
    "if age < 13:\n",
    "    print(\"child .\")\n",
    "elif age < 18:\n",
    "    print(\" teen\")\n",
    "else:\n",
    "    print(\"adult.\")"
   ]
  },
  {
   "cell_type": "code",
   "execution_count": 52,
   "id": "dae5742d-6240-413b-94e2-c03812622218",
   "metadata": {},
   "outputs": [
    {
     "name": "stdin",
     "output_type": "stream",
     "text": [
      "enter the no.  2\n"
     ]
    },
    {
     "name": "stdout",
     "output_type": "stream",
     "text": [
      "even\n",
      "number is not greater then 10\n"
     ]
    }
   ],
   "source": [
    "#even or not (nested if)\n",
    "num=int(input(\"enter the no. \"))\n",
    "if num%2==0:\n",
    "    print(\"even\")\n",
    "    if num>10:\n",
    "        print(\"num greater than 10\")\n",
    "    else:\n",
    "        print(\"number is not greater then 10\")\n",
    "else:\n",
    "    print(\"odd\")"
   ]
  },
  {
   "cell_type": "code",
   "execution_count": 59,
   "id": "e1d68762-633b-4ee5-bbeb-02bc6cf2aedd",
   "metadata": {},
   "outputs": [
    {
     "name": "stdin",
     "output_type": "stream",
     "text": [
      "enter the marks 56\n"
     ]
    },
    {
     "name": "stdout",
     "output_type": "stream",
     "text": [
      "Fail.\n"
     ]
    }
   ],
   "source": [
    "\n",
    "Marks = int(input(\"enter the marks\"))\n",
    "\n",
    "if Marks > 90:\n",
    "    print(\"A\")\n",
    "elif Marks > 75:\n",
    "    print(\"B\")\n",
    "elif Marks   > 60:\n",
    "    print(\"C\")\n",
    "else:\n",
    "    print(\"Fail.\")"
   ]
  },
  {
   "cell_type": "code",
   "execution_count": 64,
   "id": "365b9b71-e0d2-4dc4-a862-9c67319de368",
   "metadata": {},
   "outputs": [
    {
     "name": "stdin",
     "output_type": "stream",
     "text": [
      "Enter first number:  56\n",
      "Enter second number:  78\n",
      "Enter third number:  90\n"
     ]
    },
    {
     "name": "stdout",
     "output_type": "stream",
     "text": [
      "Greatest number is: 90\n"
     ]
    }
   ],
   "source": [
    "# Ask user for 3 numbers and find the geratest one\n",
    "a = int(input(\"Enter first number: \"))\n",
    "b = int(input(\"Enter second number: \"))\n",
    "c = int(input(\"Enter third number: \"))\n",
    "\n",
    "if a > b:\n",
    "    if a > c:\n",
    "        print(\"Greatest number is:\", a)\n",
    "    else:\n",
    "        print(\"Greatest number is:\", c)\n",
    "else:\n",
    "    if b > c:\n",
    "        print(\"Greatest number is:\", b)\n",
    "    else:\n",
    "        print(\"Greatest number is:\", c)\n"
   ]
  },
  {
   "cell_type": "code",
   "execution_count": 1,
   "id": "a1f2981a-7ebe-4ff4-b6bb-c5c7f9f13f9c",
   "metadata": {},
   "outputs": [
    {
     "name": "stdout",
     "output_type": "stream",
     "text": [
      "7\n"
     ]
    }
   ],
   "source": [
    "   a = 3 + 2 * 2\n",
    "print(a)\n"
   ]
  },
  {
   "cell_type": "code",
   "execution_count": 3,
   "id": "3ed821cc-6de5-45b3-ace8-34b459613f8b",
   "metadata": {},
   "outputs": [
    {
     "ename": "IndentationError",
     "evalue": "expected an indented block after 'if' statement on line 1 (3483447791.py, line 2)",
     "output_type": "error",
     "traceback": [
      "\u001b[1;36m  Cell \u001b[1;32mIn[3], line 2\u001b[1;36m\u001b[0m\n\u001b[1;33m    continue;\u001b[0m\n\u001b[1;37m    ^\u001b[0m\n\u001b[1;31mIndentationError\u001b[0m\u001b[1;31m:\u001b[0m expected an indented block after 'if' statement on line 1\n"
     ]
    }
   ],
   "source": [
    "if i == 1: \n",
    "continue;\n",
    "    print(i)"
   ]
  },
  {
   "cell_type": "code",
   "execution_count": 6,
   "id": "7958ba92-5841-4135-8159-196a7697f2f8",
   "metadata": {},
   "outputs": [
    {
     "name": "stdout",
     "output_type": "stream",
     "text": [
      "3\n"
     ]
    }
   ],
   "source": [
    "  a = 10 // 3\n",
    "print(a)"
   ]
  },
  {
   "cell_type": "code",
   "execution_count": 7,
   "id": "40ed7380-f051-4452-b573-579584109c64",
   "metadata": {},
   "outputs": [
    {
     "name": "stdout",
     "output_type": "stream",
     "text": [
      "False\n",
      "False\n"
     ]
    }
   ],
   "source": [
    "a = True\n",
    "print(not a)             # not True → False\n",
    "\n",
    "b = 4\n",
    "print(not (b > 2))       # not True → False\n"
   ]
  },
  {
   "cell_type": "code",
   "execution_count": null,
   "id": "63fa43c9-2922-4a94-a935-1bd97cf751ff",
   "metadata": {},
   "outputs": [],
   "source": [
    "a = 5\n",
    "print(a < 2 or a < 10)   # False OR True → True\n",
    "print(a > 10 or a < 3)   # False OR False → False\n"
   ]
  },
  {
   "cell_type": "code",
   "execution_count": 8,
   "id": "aecc2205-e257-46f8-8ecb-b6aaeff1aaec",
   "metadata": {},
   "outputs": [
    {
     "name": "stdout",
     "output_type": "stream",
     "text": [
      "True\n",
      "False\n"
     ]
    }
   ],
   "source": [
    "a = 5\n",
    "print(a > 2 and a < 10)  # True AND True → True\n",
    "print(a > 2 and a > 10)  # True AND False → False\n"
   ]
  },
  {
   "cell_type": "code",
   "execution_count": 24,
   "id": "fa9b9d9c-a332-40d9-9999-386ef9d09202",
   "metadata": {},
   "outputs": [
    {
     "name": "stdin",
     "output_type": "stream",
     "text": [
      "enter the no.  6\n"
     ]
    },
    {
     "name": "stdout",
     "output_type": "stream",
     "text": [
      "number is not  divisible bye both 3 and 7\n"
     ]
    }
   ],
   "source": [
    "num=int(input(\"enter the no. \"))\n",
    "if (num % 3 and num % 7) :\n",
    "    print(\"number is divisible bye both 3 and 7\")\n",
    "else:\n",
    "    print(\"number is not  divisible bye both 3 and 7\")\n"
   ]
  },
  {
   "cell_type": "code",
   "execution_count": 23,
   "id": "98857824-bc99-433b-a5ba-40b789e80409",
   "metadata": {},
   "outputs": [
    {
     "ename": "IndentationError",
     "evalue": "unexpected indent (841646768.py, line 5)",
     "output_type": "error",
     "traceback": [
      "\u001b[1;36m  Cell \u001b[1;32mIn[23], line 5\u001b[1;36m\u001b[0m\n\u001b[1;33m    if num > 0:\u001b[0m\n\u001b[1;37m    ^\u001b[0m\n\u001b[1;31mIndentationError\u001b[0m\u001b[1;31m:\u001b[0m unexpected indent\n"
     ]
    }
   ],
   "source": [
    " i = 1\n",
    "count = 0\n",
    "while i<=3:\n",
    "      num = int(input(\"number:\"))\n",
    "           if num > 0:\n",
    "             count+=1\n",
    "print(f\"total positive number:{count}\")"
   ]
  },
  {
   "cell_type": "code",
   "execution_count": 27,
   "id": "acb5067b-e1a2-4aa6-b5ab-d9db65748e1c",
   "metadata": {},
   "outputs": [
    {
     "name": "stdout",
     "output_type": "stream",
     "text": [
      "1 is odd\n",
      "2 is even\n",
      "3 is odd\n",
      "4 is even\n",
      "5 is odd\n",
      "6 is even\n",
      "7 is odd\n",
      "8 is even\n",
      "9 is odd\n",
      "10 is even\n",
      "11 is odd\n",
      "12 is even\n",
      "13 is odd\n",
      "14 is even\n",
      "15 is odd\n",
      "16 is even\n",
      "17 is odd\n",
      "18 is even\n",
      "19 is odd\n",
      "20 is even\n",
      "21 is odd\n",
      "22 is even\n",
      "23 is odd\n",
      "24 is even\n",
      "25 is odd\n",
      "26 is even\n",
      "27 is odd\n",
      "28 is even\n",
      "29 is odd\n",
      "30 is even\n",
      "31 is odd\n",
      "32 is even\n",
      "33 is odd\n",
      "34 is even\n",
      "35 is odd\n",
      "36 is even\n",
      "37 is odd\n",
      "38 is even\n",
      "39 is odd\n",
      "40 is even\n",
      "41 is odd\n",
      "42 is even\n",
      "43 is odd\n",
      "44 is even\n",
      "45 is odd\n",
      "46 is even\n",
      "47 is odd\n",
      "48 is even\n",
      "49 is odd\n",
      "50 is even\n",
      "51 is odd\n",
      "52 is even\n",
      "53 is odd\n",
      "54 is even\n",
      "55 is odd\n",
      "56 is even\n",
      "57 is odd\n",
      "58 is even\n",
      "59 is odd\n",
      "60 is even\n",
      "61 is odd\n",
      "62 is even\n",
      "63 is odd\n",
      "64 is even\n",
      "65 is odd\n",
      "66 is even\n",
      "67 is odd\n",
      "68 is even\n",
      "69 is odd\n",
      "70 is even\n",
      "71 is odd\n",
      "72 is even\n",
      "73 is odd\n",
      "74 is even\n",
      "75 is odd\n",
      "76 is even\n",
      "77 is odd\n",
      "78 is even\n",
      "79 is odd\n",
      "80 is even\n",
      "81 is odd\n",
      "82 is even\n",
      "83 is odd\n",
      "84 is even\n",
      "85 is odd\n",
      "86 is even\n",
      "87 is odd\n",
      "88 is even\n",
      "89 is odd\n",
      "90 is even\n",
      "91 is odd\n",
      "92 is even\n",
      "93 is odd\n",
      "94 is even\n",
      "95 is odd\n",
      "96 is even\n",
      "97 is odd\n",
      "98 is even\n",
      "99 is odd\n",
      "100 is even\n"
     ]
    }
   ],
   "source": [
    "for num in range(1, 100):\n",
    "    if num % 2 == 0:\n",
    "        print(num, \"is even\")\n",
    "    else:\n",
    "        print(num, \"is odd\")\n"
   ]
  },
  {
   "cell_type": "code",
   "execution_count": 29,
   "id": "aca7196f-7f42-4e09-9045-de2412a6d845",
   "metadata": {},
   "outputs": [
    {
     "name": "stdin",
     "output_type": "stream",
     "text": [
      "enter the no.  90\n"
     ]
    },
    {
     "name": "stdout",
     "output_type": "stream",
     "text": [
      "number is not  divisible bye both 3 and 7\n"
     ]
    }
   ],
   "source": [
    "num=int(input(\"enter the no. \"))\n",
    "if ((num % 3 == 0) and (num % 7==0)) :\n",
    "    print(\"number is divisible bye both 3 and 7\")\n",
    "else:\n",
    "    print(\"number is not  divisible bye both 3 and 7\")"
   ]
  },
  {
   "cell_type": "code",
   "execution_count": 34,
   "id": "1cb63d21-bed3-4ea2-8a31-2d7d476317fe",
   "metadata": {},
   "outputs": [
    {
     "name": "stdout",
     "output_type": "stream",
     "text": [
      "number in reverser order\n",
      "50\n",
      "49\n",
      "48\n",
      "47\n",
      "46\n",
      "45\n",
      "44\n",
      "43\n",
      "42\n",
      "41\n",
      "40\n",
      "39\n",
      "38\n",
      "37\n",
      "36\n",
      "35\n",
      "34\n",
      "33\n",
      "32\n",
      "31\n",
      "30\n",
      "29\n",
      "28\n",
      "27\n",
      "26\n",
      "25\n",
      "24\n",
      "23\n",
      "22\n",
      "21\n",
      "20\n",
      "19\n",
      "18\n",
      "17\n",
      "16\n",
      "15\n",
      "14\n",
      "13\n",
      "12\n",
      "11\n",
      "10\n",
      "9\n",
      "8\n",
      "7\n",
      "6\n",
      "5\n",
      "4\n",
      "3\n",
      "2\n",
      "1\n",
      "0\n"
     ]
    }
   ],
   "source": [
    "print(\"number in reverser order\")\n",
    "n = 50\n",
    "while n>=0:\n",
    "  print(n)\n",
    "  n-=1"
   ]
  },
  {
   "cell_type": "code",
   "execution_count": 41,
   "id": "f3d6d78a-8ee2-4046-88a6-aa7fb2453662",
   "metadata": {},
   "outputs": [
    {
     "name": "stdout",
     "output_type": "stream",
     "text": [
      "leap year \n"
     ]
    },
    {
     "name": "stdin",
     "output_type": "stream",
     "text": [
      "enter the year 2028\n"
     ]
    },
    {
     "name": "stdout",
     "output_type": "stream",
     "text": [
      "its  not a leap year\n"
     ]
    }
   ],
   "source": [
    "\n",
    "print(\"leap year \")\n",
    "year = int(input(\"enter the year\"))\n",
    "           \n",
    "if year%4==0 and year%100 == 0:\n",
    "     print(\"its leap year\")\n",
    "else:\n",
    "      print(\"its  not a leap year\")     \n",
    "\n"
   ]
  },
  {
   "cell_type": "code",
   "execution_count": 38,
   "id": "01e4d947-515e-42c3-9a08-6a20190b0516",
   "metadata": {},
   "outputs": [
    {
     "ename": "IndentationError",
     "evalue": "unindent does not match any outer indentation level (<string>, line 5)",
     "output_type": "error",
     "traceback": [
      "\u001b[1;36m  File \u001b[1;32m<string>:5\u001b[1;36m\u001b[0m\n\u001b[1;33m    print(f\"total number:{count}\" )\u001b[0m\n\u001b[1;37m                                   ^\u001b[0m\n\u001b[1;31mIndentationError\u001b[0m\u001b[1;31m:\u001b[0m unindent does not match any outer indentation level\n"
     ]
    }
   ],
   "source": [
    "count = 0\n",
    "for n in range(1,101)\n",
    "  if n%5==0\n",
    "    count+=1\n",
    " print(f\"total number:{count}\")\n"
   ]
  },
  {
   "cell_type": "code",
   "execution_count": null,
   "id": "6f575d64-722b-4be6-818a-26c61d8dcad1",
   "metadata": {},
   "outputs": [],
   "source": [
    "num = float(input(\"Enter a number: \"))\n",
    "\n",
    "if num > 0:\n",
    "    print(\"The number is positive.\")\n",
    "elif num < 0:\n",
    "    print(\"The number is negative.\")\n",
    "else:\n",
    "    print(\"The number is zero.\")"
   ]
  },
  {
   "cell_type": "code",
   "execution_count": null,
   "id": "06360685-4875-468a-a1e7-6f9b12d17d84",
   "metadata": {},
   "outputs": [],
   "source": [
    "n = float(input(\"enter the number:\")\n",
    "if n > 0:\n",
    "     print(\"The number is positive.\")\n",
    "elif n < 0:\n",
    "     print(\"The number is nagative.\")\n",
    "else :\n",
    "     print(\"The number is zero.\")"
   ]
  },
  {
   "cell_type": "code",
   "execution_count": null,
   "id": "21d5cec4-f2aa-4116-83aa-c32cdfc84392",
   "metadata": {},
   "outputs": [],
   "source": [
    "for i in range(1,30):\n",
    "  if i%4==0:\n",
    "      continue \n",
    "     print(i)"
   ]
  },
  {
   "cell_type": "code",
   "execution_count": null,
   "id": "cf553b95-319f-412e-9a3f-c617e6b60088",
   "metadata": {},
   "outputs": [],
   "source": []
  }
 ],
 "metadata": {
  "kernelspec": {
   "display_name": "Python [conda env:anaconda3]",
   "language": "python",
   "name": "conda-env-anaconda3-py"
  },
  "language_info": {
   "codemirror_mode": {
    "name": "ipython",
    "version": 3
   },
   "file_extension": ".py",
   "mimetype": "text/x-python",
   "name": "python",
   "nbconvert_exporter": "python",
   "pygments_lexer": "ipython3",
   "version": "3.13.5"
  }
 },
 "nbformat": 4,
 "nbformat_minor": 5
}
