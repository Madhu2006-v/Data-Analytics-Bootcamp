{
 "cells": [
  {
   "cell_type": "code",
   "execution_count": 10,
   "id": "602d1dd7-e08a-445f-b213-b006017c61f9",
   "metadata": {},
   "outputs": [
    {
     "name": "stdout",
     "output_type": "stream",
     "text": [
      "<class 'int'>\n"
     ]
    }
   ],
   "source": [
    "a=4\n",
    "print(type(a))"
   ]
  },
  {
   "cell_type": "code",
   "execution_count": 8,
   "id": "31d21f15-01a4-4e52-8c52-93656806acb5",
   "metadata": {},
   "outputs": [
    {
     "name": "stdout",
     "output_type": "stream",
     "text": [
      "<class 'bool'>\n"
     ]
    }
   ],
   "source": [
    "a=True\n",
    "print(type(a))"
   ]
  },
  {
   "cell_type": "code",
   "execution_count": 9,
   "id": "b6f62037-7b96-4a02-86a9-2546c542c511",
   "metadata": {},
   "outputs": [
    {
     "name": "stdout",
     "output_type": "stream",
     "text": [
      "<class 'str'>\n"
     ]
    }
   ],
   "source": [
    "a=3\n",
    "b=str(a)\n",
    "print(type(b))\n"
   ]
  },
  {
   "cell_type": "code",
   "execution_count": 3,
   "id": "d44721e0-e934-496e-ab0c-34aa4df0c6e4",
   "metadata": {},
   "outputs": [],
   "source": [
    "#arthimethic operators"
   ]
  },
  {
   "cell_type": "code",
   "execution_count": 4,
   "id": "341b827e-f60c-45e2-a2a3-228913b5e784",
   "metadata": {},
   "outputs": [
    {
     "name": "stdout",
     "output_type": "stream",
     "text": [
      "10\n"
     ]
    }
   ],
   "source": [
    "a=4\n",
    "b=6\n",
    "c=a+b\n",
    "print(c)"
   ]
  },
  {
   "cell_type": "code",
   "execution_count": 7,
   "id": "c08ba03e-31d7-4331-8f52-680d0ecd738a",
   "metadata": {},
   "outputs": [
    {
     "name": "stdin",
     "output_type": "stream",
     "text": [
      "enter the no. 5\n",
      "enter the no 6\n"
     ]
    },
    {
     "name": "stdout",
     "output_type": "stream",
     "text": [
      "11\n"
     ]
    }
   ],
   "source": [
    "a=int(input(\"enter the no.\"))\n",
    "b=int(input(\"enter the no\"))\n",
    "c= a + b\n",
    "print(c)"
   ]
  },
  {
   "cell_type": "code",
   "execution_count": 11,
   "id": "7eb2b2b6-ffe4-4ef3-9c39-1c93205e630f",
   "metadata": {},
   "outputs": [],
   "source": [
    "#comparisons operators"
   ]
  },
  {
   "cell_type": "code",
   "execution_count": null,
   "id": "3b8a5969-4ed1-4cef-b0a1-5babe996cfe4",
   "metadata": {},
   "outputs": [],
   "source": [
    "<,>,<=,>=,=="
   ]
  },
  {
   "cell_type": "code",
   "execution_count": 13,
   "id": "a563252b-3fac-40b6-97b9-167a796782c0",
   "metadata": {},
   "outputs": [
    {
     "name": "stdout",
     "output_type": "stream",
     "text": [
      "False\n"
     ]
    }
   ],
   "source": [
    "a=6\n",
    "b=9\n",
    "print(a>=b)"
   ]
  },
  {
   "cell_type": "code",
   "execution_count": 14,
   "id": "550e8735-fba1-4973-a9b9-bcc9501e9810",
   "metadata": {},
   "outputs": [
    {
     "name": "stdout",
     "output_type": "stream",
     "text": [
      "True\n"
     ]
    }
   ],
   "source": [
    "a=90\n",
    "b=60\n",
    "print(a>b)"
   ]
  },
  {
   "cell_type": "code",
   "execution_count": 16,
   "id": "55830648-1959-4625-aa2b-f62714b6d416",
   "metadata": {},
   "outputs": [
    {
     "name": "stdout",
     "output_type": "stream",
     "text": [
      "True\n"
     ]
    }
   ],
   "source": [
    " d=90\n",
    "c=90\n",
    "print(d==c)"
   ]
  },
  {
   "cell_type": "code",
   "execution_count": 23,
   "id": "12b67f22-7d0f-4f35-84f1-90ec170d1a3c",
   "metadata": {},
   "outputs": [
    {
     "name": "stdin",
     "output_type": "stream",
     "text": [
      " enter the frist no 5\n",
      " enter the frist no 7\n",
      " enter the frist no 9\n"
     ]
    },
    {
     "name": "stdout",
     "output_type": "stream",
     "text": [
      "21\n",
      "7.0\n",
      "False\n",
      "4.2\n"
     ]
    }
   ],
   "source": [
    "x=int(input(\" enter the frist no\"))\n",
    "y=int(input(\" enter the frist no\"))\n",
    "z=int(input(\" enter the frist no\"))\n",
    "sum =  x + y + z \n",
    "print(sum)\n",
    "avg = sum/3\n",
    "print(avg)\n",
    "print(avg>50)\n",
    "print(sum/5)\n",
    "\n",
    "\n",
    "\n"
   ]
  },
  {
   "cell_type": "code",
   "execution_count": null,
   "id": "0a617477-6511-48ba-bff3-5dfe3a9a86a6",
   "metadata": {},
   "outputs": [],
   "source": [
    "#logical operators"
   ]
  },
  {
   "cell_type": "code",
   "execution_count": null,
   "id": "c814689a-c50d-4095-a24f-04b586d0cbe4",
   "metadata": {},
   "outputs": [],
   "source": [
    "and , or, not"
   ]
  },
  {
   "cell_type": "code",
   "execution_count": 24,
   "id": "877309e0-c2a7-44ae-a5a8-e2b309e63c46",
   "metadata": {},
   "outputs": [
    {
     "name": "stdout",
     "output_type": "stream",
     "text": [
      "False\n"
     ]
    }
   ],
   "source": [
    "a=0 \n",
    "b=9\n",
    "print(a>b and a==b)"
   ]
  },
  {
   "cell_type": "code",
   "execution_count": 25,
   "id": "83d43f43-a23a-47a5-a739-edaccb56bb1d",
   "metadata": {},
   "outputs": [
    {
     "name": "stdout",
     "output_type": "stream",
     "text": [
      "True\n"
     ]
    }
   ],
   "source": [
    "a = 100\n",
    "b = 100\n",
    "print(a<b or a==b) "
   ]
  },
  {
   "cell_type": "code",
   "execution_count": 27,
   "id": "eb63fe22-fd3a-44ff-9f47-66b5010ebbe5",
   "metadata": {},
   "outputs": [
    {
     "name": "stdout",
     "output_type": "stream",
     "text": [
      "False\n"
     ]
    }
   ],
   "source": [
    "d= 90\n",
    "c= 45\n",
    "print(not (a==b))"
   ]
  },
  {
   "cell_type": "code",
   "execution_count": 28,
   "id": "691389aa-6e70-4219-995f-32539ecb6551",
   "metadata": {},
   "outputs": [],
   "source": [
    "#membership operators"
   ]
  },
  {
   "cell_type": "code",
   "execution_count": null,
   "id": "7ababf42-d128-4197-97b8-9a7035699176",
   "metadata": {},
   "outputs": [],
   "source": [
    "in, not in"
   ]
  },
  {
   "cell_type": "code",
   "execution_count": 30,
   "id": "d059aff5-35f5-4e02-8604-b707b2a95d1b",
   "metadata": {},
   "outputs": [
    {
     "name": "stdout",
     "output_type": "stream",
     "text": [
      "2\n",
      "5\n",
      "6\n",
      "7\n",
      "4\n"
     ]
    }
   ],
   "source": [
    "a=[2,5,6,7,4,]\n",
    "for x in a:\n",
    "    print(x)"
   ]
  },
  {
   "cell_type": "code",
   "execution_count": 31,
   "id": "10d54b1d-19bf-4d14-8522-3cec8edf9346",
   "metadata": {},
   "outputs": [],
   "source": [
    "#question"
   ]
  },
  {
   "cell_type": "code",
   "execution_count": 32,
   "id": "a71a8e91-b880-45d4-b5bb-95c792a72c8e",
   "metadata": {},
   "outputs": [
    {
     "name": "stdin",
     "output_type": "stream",
     "text": [
      "enter the  frist no 6\n",
      " enter the frist no 9\n"
     ]
    },
    {
     "name": "stdout",
     "output_type": "stream",
     "text": [
      "15\n",
      "54\n"
     ]
    }
   ],
   "source": [
    " x = int(input(\"enter the  frist no\"))\n",
    " y=int(input(\" enter the frist no\"))\n",
    "sum = x + y\n",
    "multi = x * y\n",
    "print(sum)\n",
    "print(multi)"
   ]
  },
  {
   "cell_type": "code",
   "execution_count": 38,
   "id": "826c7ea3-8501-4e79-9848-0b35d35dd870",
   "metadata": {},
   "outputs": [
    {
     "name": "stdin",
     "output_type": "stream",
     "text": [
      "enter the  frist no 8\n",
      " enter the frist no 9\n"
     ]
    },
    {
     "name": "stdout",
     "output_type": "stream",
     "text": [
      "comparison\n",
      "False\n",
      "greater then\n",
      "False\n"
     ]
    }
   ],
   "source": [
    "x = int(input(\"enter the  frist no\"))\n",
    "y= int(input(\" enter the frist no\"))\n",
    "print(\"comparison\")\n",
    "print(x == y)\n",
    "print(\"greater then\")\n",
    "print(x > y)"
   ]
  },
  {
   "cell_type": "code",
   "execution_count": 1,
   "id": "62d1db22-401c-4ee0-90c7-6f49eacee457",
   "metadata": {},
   "outputs": [
    {
     "name": "stdout",
     "output_type": "stream",
     "text": [
      "10\n",
      "20\n",
      "30\n",
      "50\n",
      "70\n"
     ]
    }
   ],
   "source": [
    "a=[10,20,30,50, 70,]\n",
    "for x in a:\n",
    "  print (x)"
   ]
  },
  {
   "cell_type": "code",
   "execution_count": null,
   "id": "4ca94c0b-7f24-444c-a4b8-c11b80338bc9",
   "metadata": {},
   "outputs": [],
   "source": []
  },
  {
   "cell_type": "code",
   "execution_count": null,
   "id": "8a16da8f-788a-4e0c-813a-0773ca952397",
   "metadata": {},
   "outputs": [],
   "source": []
  },
  {
   "cell_type": "code",
   "execution_count": null,
   "id": "3b8fe80d-fccb-4e45-85ce-21922803c3c4",
   "metadata": {},
   "outputs": [],
   "source": []
  },
  {
   "cell_type": "code",
   "execution_count": null,
   "id": "213a8c09-7aac-4ab5-951d-4a29bf059a60",
   "metadata": {},
   "outputs": [],
   "source": []
  }
 ],
 "metadata": {
  "kernelspec": {
   "display_name": "Python [conda env:base] *",
   "language": "python",
   "name": "conda-base-py"
  },
  "language_info": {
   "codemirror_mode": {
    "name": "ipython",
    "version": 3
   },
   "file_extension": ".py",
   "mimetype": "text/x-python",
   "name": "python",
   "nbconvert_exporter": "python",
   "pygments_lexer": "ipython3",
   "version": "3.13.5"
  }
 },
 "nbformat": 4,
 "nbformat_minor": 5
}
